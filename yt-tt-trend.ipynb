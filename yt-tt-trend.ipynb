{
 "cells": [
  {
   "cell_type": "code",
   "execution_count": 7,
   "id": "8acea580-1ce3-44b5-8da6-1dc2ab21ff3d",
   "metadata": {},
   "outputs": [
    {
     "name": "stdout",
     "output_type": "stream",
     "text": [
      "Index(['platform', 'hashtag', 'n_videos', 'views', 'likes', 'comments',\n",
      "       'shares', 'saves', 'avg_er', 'avg_engagement_velocity',\n",
      "       'avg_comment_ratio', 'avg_share_rate', 'avg_save_rate',\n",
      "       'avg_like_dislike_ratio', 'avg_engagement_per_1k', 'avg_like_rate',\n",
      "       'avg_dislike_rate', 'total_engagements'],\n",
      "      dtype='object')\n"
     ]
    }
   ],
   "source": [
    "import pandas as pd\n",
    "df=pd.read_csv(r\"C:\\Users\\LINGESH A\\OneDrive\\Desktop\\py\\top_hashtags_2025.csv\")\n",
    "print(df.columns)"
   ]
  },
  {
   "cell_type": "code",
   "execution_count": 8,
   "id": "cb5c4a64-9839-4d02-b4d1-a88c4c4540e4",
   "metadata": {},
   "outputs": [
    {
     "name": "stdout",
     "output_type": "stream",
     "text": [
      "(82, 18)\n"
     ]
    }
   ],
   "source": [
    "print(df.shape)"
   ]
  },
  {
   "cell_type": "markdown",
   "id": "441b6106-1932-4923-b63b-7cab3e038dc4",
   "metadata": {},
   "source": [
    "### These are the column attributes in the dataset"
   ]
  },
  {
   "cell_type": "code",
   "execution_count": 10,
   "id": "4e2adce7-51cd-485e-b0fb-debc3bab2401",
   "metadata": {
    "scrolled": true
   },
   "outputs": [
    {
     "name": "stdout",
     "output_type": "stream",
     "text": [
      "hashtag\n",
      "#FYP               2\n",
      "#GRWM              2\n",
      "#Comedy            2\n",
      "#Lifestyle         2\n",
      "#Relatable         2\n",
      "#DanceChallenge    2\n",
      "#MorningRoutine    2\n",
      "#Music             2\n",
      "#Cover             2\n",
      "#Dance             2\n",
      "#OOTD              2\n",
      "#AI                2\n",
      "#Sports            2\n",
      "#Motivation        2\n",
      "#Tech              2\n",
      "#BookTok           2\n",
      "#DogTok            2\n",
      "#Fashion           2\n",
      "#LearnOnTikTok     2\n",
      "#StudyWithMe       2\n",
      "#Foodie            2\n",
      "#Travel            2\n",
      "#Wanderlust        2\n",
      "#HiddenGems        2\n",
      "#CatTok            2\n",
      "#Football          2\n",
      "#Coding            2\n",
      "#Workout           2\n",
      "#GameClip          2\n",
      "#StreetFood        2\n",
      "#Pets              2\n",
      "#Recipe            2\n",
      "#Gaming            2\n",
      "#Makeup            2\n",
      "#Esports           2\n",
      "#Beauty            2\n",
      "#Streamer          2\n",
      "#Skincare          2\n",
      "#LifeHacks         2\n",
      "#Crafts            2\n",
      "#DIY               2\n",
      "Name: count, dtype: int64\n"
     ]
    }
   ],
   "source": [
    "most_hashtags=df[\"hashtag\"].value_counts()\n",
    "print(most_hashtags)"
   ]
  },
  {
   "cell_type": "markdown",
   "id": "fdc76388-1c5b-4905-aaf3-06a7936eb1cd",
   "metadata": {},
   "source": [
    "### This shows that all hashtags are being evenly distributed. Now we need to look into the number of views to know which creates popular videos"
   ]
  },
  {
   "cell_type": "code",
   "execution_count": 12,
   "id": "0e7dc346-02c4-40fb-b473-97b1c45d4577",
   "metadata": {},
   "outputs": [
    {
     "name": "stdout",
     "output_type": "stream",
     "text": [
      "734064265\n"
     ]
    }
   ],
   "source": [
    "print(df[\"views\"].max())"
   ]
  },
  {
   "cell_type": "code",
   "execution_count": 13,
   "id": "297f0e85-e00d-4c1e-ae1f-b4bcfd0e7038",
   "metadata": {},
   "outputs": [
    {
     "name": "stdout",
     "output_type": "stream",
     "text": [
      "2435911\n"
     ]
    }
   ],
   "source": [
    "print(df[\"views\"].min())"
   ]
  },
  {
   "cell_type": "markdown",
   "id": "7b7fb378-479e-4cd6-adc7-669a8d40d37b",
   "metadata": {},
   "source": [
    "### This shows the maximum and minimum view count in the dataset"
   ]
  },
  {
   "cell_type": "code",
   "execution_count": 16,
   "id": "e638d452-23ed-4904-bcd1-e5f698d0d51e",
   "metadata": {},
   "outputs": [
    {
     "name": "stdout",
     "output_type": "stream",
     "text": [
      "       hashtag      views\n",
      "0         #FYP  734064265\n",
      "41        #FYP  490980894\n",
      "1        #GRWM  111331419\n",
      "2      #Comedy   79538424\n",
      "3   #Lifestyle   78531438\n",
      "..         ...        ...\n",
      "38  #LifeHacks    4270592\n",
      "39     #Crafts    4158296\n",
      "40        #DIY    3898721\n",
      "80        #DIY    2760492\n",
      "81  #LifeHacks    2435911\n",
      "\n",
      "[82 rows x 2 columns]\n"
     ]
    }
   ],
   "source": [
    "tophash=df.sort_values(by=\"views\", ascending=False)\n",
    "print(tophash[[\"hashtag\",\"views\"]])"
   ]
  },
  {
   "cell_type": "code",
   "execution_count": null,
   "id": "7652a322-9d4f-4ca4-8ed7-9b3e717c1dab",
   "metadata": {},
   "outputs": [],
   "source": []
  }
 ],
 "metadata": {
  "kernelspec": {
   "display_name": "Python 3 (ipykernel)",
   "language": "python",
   "name": "python3"
  },
  "language_info": {
   "codemirror_mode": {
    "name": "ipython",
    "version": 3
   },
   "file_extension": ".py",
   "mimetype": "text/x-python",
   "name": "python",
   "nbconvert_exporter": "python",
   "pygments_lexer": "ipython3",
   "version": "3.13.2"
  }
 },
 "nbformat": 4,
 "nbformat_minor": 5
}
